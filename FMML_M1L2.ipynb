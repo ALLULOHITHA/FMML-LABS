{
  "cells": [
    {
      "cell_type": "markdown",
      "metadata": {
        "id": "view-in-github",
        "colab_type": "text"
      },
      "source": [
        "<a href=\"https://colab.research.google.com/github/ALLULOHITHA/FMML-LABS/blob/main/FMML_M1L2.ipynb\" target=\"_parent\"><img src=\"https://colab.research.google.com/assets/colab-badge.svg\" alt=\"Open In Colab\"/></a>"
      ]
    },
    {
      "cell_type": "markdown",
      "metadata": {
        "id": "3Eu9VZbF01eq"
      },
      "source": [
        "# Machine Learning terms and metrics\n",
        "\n",
        "FMML Module 1, Lab 2\n",
        "\n",
        "In this lab, we will show a part of the ML pipeline by using the California Housing dataset. There are 20640 samples, each with 8 attributes like income of the block, age of the houses per district etc. The task is to predict the cost of the houses per district. We will use the scikit-learn library to load the data and perform some basic data preprocessing and model training. We will also show how to evaluate the model using some common metrics, split the data into training and testing sets, and use cross-validation to get a better estimate of the model's performance."
      ]
    },
    {
      "cell_type": "code",
      "execution_count": 1,
      "metadata": {
        "id": "8qBvyEem0vLi"
      },
      "outputs": [],
      "source": [
        "import numpy as np\n",
        "from sklearn import datasets\n",
        "import matplotlib.pyplot as plt\n",
        "\n",
        "rng = np.random.default_rng(seed=42)"
      ]
    },
    {
      "cell_type": "code",
      "execution_count": 2,
      "metadata": {
        "colab": {
          "base_uri": "https://localhost:8080/"
        },
        "id": "8LpqjN991GGJ",
        "outputId": "37dcf728-29e7-49d5-9f2f-260312f49b72"
      },
      "outputs": [
        {
          "output_type": "stream",
          "name": "stdout",
          "text": [
            ".. _california_housing_dataset:\n",
            "\n",
            "California Housing dataset\n",
            "--------------------------\n",
            "\n",
            "**Data Set Characteristics:**\n",
            "\n",
            ":Number of Instances: 20640\n",
            "\n",
            ":Number of Attributes: 8 numeric, predictive attributes and the target\n",
            "\n",
            ":Attribute Information:\n",
            "    - MedInc        median income in block group\n",
            "    - HouseAge      median house age in block group\n",
            "    - AveRooms      average number of rooms per household\n",
            "    - AveBedrms     average number of bedrooms per household\n",
            "    - Population    block group population\n",
            "    - AveOccup      average number of household members\n",
            "    - Latitude      block group latitude\n",
            "    - Longitude     block group longitude\n",
            "\n",
            ":Missing Attribute Values: None\n",
            "\n",
            "This dataset was obtained from the StatLib repository.\n",
            "https://www.dcc.fc.up.pt/~ltorgo/Regression/cal_housing.html\n",
            "\n",
            "The target variable is the median house value for California districts,\n",
            "expressed in hundreds of thousands of dollars ($100,000).\n",
            "\n",
            "This dataset was derived from the 1990 U.S. census, using one row per census\n",
            "block group. A block group is the smallest geographical unit for which the U.S.\n",
            "Census Bureau publishes sample data (a block group typically has a population\n",
            "of 600 to 3,000 people).\n",
            "\n",
            "A household is a group of people residing within a home. Since the average\n",
            "number of rooms and bedrooms in this dataset are provided per household, these\n",
            "columns may take surprisingly large values for block groups with few households\n",
            "and many empty houses, such as vacation resorts.\n",
            "\n",
            "It can be downloaded/loaded using the\n",
            ":func:`sklearn.datasets.fetch_california_housing` function.\n",
            "\n",
            ".. rubric:: References\n",
            "\n",
            "- Pace, R. Kelley and Ronald Barry, Sparse Spatial Autoregressions,\n",
            "  Statistics and Probability Letters, 33 (1997) 291-297\n",
            "\n"
          ]
        }
      ],
      "source": [
        "dataset = datasets.fetch_california_housing()\n",
        "# Dataset description\n",
        "print(dataset.DESCR)"
      ]
    },
    {
      "cell_type": "markdown",
      "metadata": {
        "id": "PCe1VNftevgE"
      },
      "source": [
        "Given below are the list of target values. These correspond to the house value derived considering all the 8 input features and are continuous values. We should use regression models to predict these values but we will start with a simple classification model for the sake of simplicity. We need to just round off the values to the nearest integer and use a classification model to predict the house value."
      ]
    },
    {
      "cell_type": "code",
      "execution_count": 3,
      "metadata": {
        "colab": {
          "base_uri": "https://localhost:8080/"
        },
        "id": "F8K0ggBOevgE",
        "outputId": "e047f6b0-da6d-4d4c-8230-ee9685e95e82"
      },
      "outputs": [
        {
          "output_type": "stream",
          "name": "stdout",
          "text": [
            "Orignal target values: [4.526 3.585 3.521 ... 0.923 0.847 0.894]\n",
            "Target values after conversion: [4 3 3 ... 0 0 0]\n",
            "Input variables shape: (20640, 8)\n",
            "Output variables shape: (20640,)\n"
          ]
        }
      ],
      "source": [
        "print(\"Orignal target values:\", dataset.target)\n",
        "\n",
        "dataset.target = dataset.target.astype(int)\n",
        "\n",
        "print(\"Target values after conversion:\", dataset.target)\n",
        "print(\"Input variables shape:\", dataset.data.shape)\n",
        "print(\"Output variables shape:\", dataset.target.shape)"
      ]
    },
    {
      "cell_type": "markdown",
      "metadata": {
        "id": "iNx4174W5xRg"
      },
      "source": [
        "The simplest model to use for classification is the K-Nearest Neighbors model. We will use this model to predict the house value with a K value of 1. We will also use the accuracy metric to evaluate the model."
      ]
    },
    {
      "cell_type": "code",
      "execution_count": 4,
      "metadata": {
        "id": "07zpydQj1hIQ"
      },
      "outputs": [],
      "source": [
        "def NN1(traindata, trainlabel, query):\n",
        "    \"\"\"\n",
        "    This function takes in the training data, training labels and a query point\n",
        "    and returns the predicted label for the query point using the nearest neighbour algorithm\n",
        "\n",
        "    traindata: numpy array of shape (n,d) where n is the number of samples and d is the number of features\n",
        "    trainlabel: numpy array of shape (n,) where n is the number of samples\n",
        "    query: numpy array of shape (d,) where d is the number of features\n",
        "\n",
        "    returns: the predicted label for the query point which is the label of the training data which is closest to the query point\n",
        "    \"\"\"\n",
        "    diff = (\n",
        "        traindata - query\n",
        "    )  # find the difference between features. Numpy automatically takes care of the size here\n",
        "    sq = diff * diff  # square the differences\n",
        "    dist = sq.sum(1)  # add up the squares\n",
        "    label = trainlabel[np.argmin(dist)]\n",
        "    return label\n",
        "\n",
        "\n",
        "def NN(traindata, trainlabel, testdata):\n",
        "    \"\"\"\n",
        "    This function takes in the training data, training labels and test data\n",
        "    and returns the predicted labels for the test data using the nearest neighbour algorithm\n",
        "\n",
        "    traindata: numpy array of shape (n,d) where n is the number of samples and d is the number of features\n",
        "    trainlabel: numpy array of shape (n,) where n is the number of samples\n",
        "    testdata: numpy array of shape (m,d) where m is the number of test samples and d is the number of features\n",
        "\n",
        "    returns: the predicted labels for the test data which is the label of the training data which is closest to each test point\n",
        "    \"\"\"\n",
        "    predlabel = np.array([NN1(traindata, trainlabel, i) for i in testdata])\n",
        "    return predlabel"
      ]
    },
    {
      "cell_type": "markdown",
      "metadata": {
        "id": "03JktkfIGaje"
      },
      "source": [
        "We will also define a 'random classifier', which randomly allots labels to each sample"
      ]
    },
    {
      "cell_type": "code",
      "execution_count": 5,
      "metadata": {
        "id": "fogWAtjyGhAH"
      },
      "outputs": [],
      "source": [
        "def RandomClassifier(traindata, trainlabel, testdata):\n",
        "    \"\"\"\n",
        "    This function takes in the training data, training labels and test data\n",
        "    and returns the predicted labels for the test data using the random classifier algorithm\n",
        "\n",
        "    In reality, we don't need these arguments but we are passing them to keep the function signature consistent with other classifiers\n",
        "\n",
        "    traindata: numpy array of shape (n,d) where n is the number of samples and d is the number of features\n",
        "    trainlabel: numpy array of shape (n,) where n is the number of samples\n",
        "    testdata: numpy array of shape (m,d) where m is the number of test samples and d is the number of features\n",
        "\n",
        "    returns: the predicted labels for the test data which is a random label from the training data\n",
        "    \"\"\"\n",
        "\n",
        "    classes = np.unique(trainlabel)\n",
        "    rints = rng.integers(low=0, high=len(classes), size=len(testdata))\n",
        "    predlabel = classes[rints]\n",
        "    return predlabel"
      ]
    },
    {
      "cell_type": "markdown",
      "metadata": {
        "id": "1Hjf1KHs7fU5"
      },
      "source": [
        "We need a metric to evaluate the performance of the model. Let us define a metric 'Accuracy' to see how good our learning algorithm is. Accuracy is the ratio of the number of correctly classified samples to the total number of samples. The higher the accuracy, the better the algorithm. We will use the accuracy metric to evaluate and compate the performance of the K-Nearest Neighbors model and the random classifier."
      ]
    },
    {
      "cell_type": "code",
      "execution_count": 6,
      "metadata": {
        "id": "ouuCqWU07bz-"
      },
      "outputs": [],
      "source": [
        "def Accuracy(gtlabel, predlabel):\n",
        "    \"\"\"\n",
        "    This function takes in the ground-truth labels and predicted labels\n",
        "    and returns the accuracy of the classifier\n",
        "\n",
        "    gtlabel: numpy array of shape (n,) where n is the number of samples\n",
        "    predlabel: numpy array of shape (n,) where n is the number of samples\n",
        "\n",
        "    returns: the accuracy of the classifier which is the number of correct predictions divided by the total number of predictions\n",
        "    \"\"\"\n",
        "    assert len(gtlabel) == len(\n",
        "        predlabel\n",
        "    ), \"Length of the ground-truth labels and predicted labels should be the same\"\n",
        "    correct = (\n",
        "        gtlabel == predlabel\n",
        "    ).sum()  # count the number of times the groundtruth label is equal to the predicted label.\n",
        "    return correct / len(gtlabel)"
      ]
    },
    {
      "cell_type": "markdown",
      "metadata": {
        "id": "4vJFwBFa9Klw"
      },
      "source": [
        "Let us make a function to split the dataset with the desired probability. We will use this function to split the dataset into training and testing sets. We will use the training set to train the model and the testing set to evaluate the model."
      ]
    },
    {
      "cell_type": "code",
      "execution_count": 7,
      "metadata": {
        "id": "Ko0VzpSM2Tdi"
      },
      "outputs": [],
      "source": [
        "def split(data, label, percent):\n",
        "    # generate a random number for each sample\n",
        "    rnd = rng.random(len(label))\n",
        "    split1 = rnd < percent\n",
        "    split2 = rnd >= percent\n",
        "\n",
        "    split1data = data[split1, :]\n",
        "    split1label = label[split1]\n",
        "    split2data = data[split2, :]\n",
        "    split2label = label[split2]\n",
        "    return split1data, split1label, split2data, split2label"
      ]
    },
    {
      "cell_type": "markdown",
      "metadata": {
        "id": "AcK3LEAJ_LGC"
      },
      "source": [
        "We will reserve 20% of our dataset as the test set. We will not change this portion throughout our experiments"
      ]
    },
    {
      "cell_type": "code",
      "execution_count": 8,
      "metadata": {
        "colab": {
          "base_uri": "https://localhost:8080/"
        },
        "id": "bBZkHBLJ1iU-",
        "outputId": "3b8f582b-679b-4c03-aac9-42ddde7bacba"
      },
      "outputs": [
        {
          "output_type": "stream",
          "name": "stdout",
          "text": [
            "Number of test samples: 4144\n",
            "Number of train samples: 16496\n",
            "Percent of test data: 20.07751937984496 %\n"
          ]
        }
      ],
      "source": [
        "testdata, testlabel, alltraindata, alltrainlabel = split(\n",
        "    dataset.data, dataset.target, 20 / 100\n",
        ")\n",
        "print(\"Number of test samples:\", len(testlabel))\n",
        "print(\"Number of train samples:\", len(alltrainlabel))\n",
        "print(\"Percent of test data:\", len(testlabel) * 100 / len(dataset.target), \"%\")"
      ]
    },
    {
      "cell_type": "markdown",
      "metadata": {
        "id": "a6Ss0Z6IAGNV"
      },
      "source": [
        "## Experiments with splits\n",
        "\n",
        "Let us reserve some of our train data as a validation set"
      ]
    },
    {
      "cell_type": "code",
      "execution_count": 9,
      "metadata": {
        "id": "WFew2iry_7W7"
      },
      "outputs": [],
      "source": [
        "traindata, trainlabel, valdata, vallabel = split(\n",
        "    alltraindata, alltrainlabel, 75 / 100)"
      ]
    },
    {
      "cell_type": "markdown",
      "metadata": {
        "id": "60hiu4clFN1i"
      },
      "source": [
        "What is the accuracy of our classifiers on the train dataset?"
      ]
    },
    {
      "cell_type": "code",
      "execution_count": 10,
      "metadata": {
        "colab": {
          "base_uri": "https://localhost:8080/"
        },
        "id": "DBlZDTHUFTZx",
        "outputId": "cb741abf-0110-4ae2-ede3-16fa5a09562e"
      },
      "outputs": [
        {
          "output_type": "stream",
          "name": "stdout",
          "text": [
            "Training accuracy using nearest neighbour algorithm: 100.0 %\n",
            "Training accuracy using random classifier:  16.4375808538163 %\n"
          ]
        }
      ],
      "source": [
        "trainpred = NN(traindata, trainlabel, traindata)\n",
        "trainAccuracy = Accuracy(trainlabel, trainpred)\n",
        "print(\"Training accuracy using nearest neighbour algorithm:\", trainAccuracy*100, \"%\")\n",
        "\n",
        "trainpred = RandomClassifier(traindata, trainlabel, traindata)\n",
        "trainAccuracy = Accuracy(trainlabel, trainpred)\n",
        "print(\"Training accuracy using random classifier: \", trainAccuracy*100, \"%\")"
      ]
    },
    {
      "cell_type": "markdown",
      "metadata": {
        "id": "7h08-9gJDtSy"
      },
      "source": [
        "For nearest neighbour, the train accuracy is always 1. The accuracy of the random classifier is close to 1/(number of classes) which is 0.1666 in our case. This is because the random classifier randomly assigns a label to each sample and the probability of assigning the correct label is 1/(number of classes). Let us predict the labels for our validation set and get the accuracy. This accuracy is a good estimate of the accuracy of our model on unseen data."
      ]
    },
    {
      "cell_type": "code",
      "execution_count": 11,
      "metadata": {
        "colab": {
          "base_uri": "https://localhost:8080/"
        },
        "id": "4h7bXoW_2H3v",
        "outputId": "65dd2555-e6b6-460a-f716-f77b6cff9b88"
      },
      "outputs": [
        {
          "output_type": "stream",
          "name": "stdout",
          "text": [
            "Validation accuracy using nearest neighbour algorithm: 34.10852713178294 %\n",
            "Validation accuracy using random classifier: 16.884689922480618 %\n"
          ]
        }
      ],
      "source": [
        "valpred = NN(traindata, trainlabel, valdata)\n",
        "valAccuracy = Accuracy(vallabel, valpred)\n",
        "print(\"Validation accuracy using nearest neighbour algorithm:\", valAccuracy*100, \"%\")\n",
        "\n",
        "\n",
        "valpred = RandomClassifier(traindata, trainlabel, valdata)\n",
        "valAccuracy = Accuracy(vallabel, valpred)\n",
        "print(\"Validation accuracy using random classifier:\", valAccuracy*100, \"%\")"
      ]
    },
    {
      "cell_type": "markdown",
      "metadata": {
        "id": "py9bLguFEjfg"
      },
      "source": [
        "Validation accuracy of nearest neighbour is considerably less than its train accuracy while the validation accuracy of random classifier is the same. However, the validation accuracy of nearest neighbour is twice that of the random classifier. Now let us try another random split and check the validation accuracy. We will see that the validation accuracy changes with the split. This is because the validation set is small and the accuracy is highly dependent on the samples in the validation set. We can get a better estimate of the accuracy by using cross-validation."
      ]
    },
    {
      "cell_type": "code",
      "execution_count": 12,
      "metadata": {
        "colab": {
          "base_uri": "https://localhost:8080/"
        },
        "id": "ujm3cyYzEntE",
        "outputId": "b88c1342-6d43-4d51-fccd-a4ac7ecc110c"
      },
      "outputs": [
        {
          "output_type": "stream",
          "name": "stdout",
          "text": [
            "Validation accuracy using nearest neighbour algorithm: 34.048257372654156 %\n"
          ]
        }
      ],
      "source": [
        "traindata, trainlabel, valdata, vallabel = split(\n",
        "    alltraindata, alltrainlabel, 75 / 100)\n",
        "valpred = NN(traindata, trainlabel, valdata)\n",
        "valAccuracy = Accuracy(vallabel, valpred)\n",
        "print(\"Validation accuracy using nearest neighbour algorithm:\", valAccuracy*100, \"%\")"
      ]
    },
    {
      "cell_type": "markdown",
      "metadata": {
        "id": "oSOx7U83EKie"
      },
      "source": [
        "You can run the above cell multiple times to try with different random splits.\n",
        "We notice that the accuracy is different for each run, but close together.\n",
        "\n",
        "Now let us compare it with the accuracy we get on the test dataset."
      ]
    },
    {
      "cell_type": "code",
      "execution_count": 13,
      "metadata": {
        "colab": {
          "base_uri": "https://localhost:8080/"
        },
        "id": "PNEZ5ToYBEDW",
        "outputId": "24a29d61-8b72-4f93-f5bf-6856d3501445"
      },
      "outputs": [
        {
          "output_type": "stream",
          "name": "stdout",
          "text": [
            "Test accuracy: 34.91795366795367 %\n"
          ]
        }
      ],
      "source": [
        "testpred = NN(alltraindata, alltrainlabel, testdata)\n",
        "testAccuracy = Accuracy(testlabel, testpred)\n",
        "\n",
        "print(\"Test accuracy:\", testAccuracy*100, \"%\")"
      ]
    },
    {
      "cell_type": "markdown",
      "metadata": {
        "id": "w3dGD531K3gH"
      },
      "source": [
        "### Try it out for yourself and answer:\n",
        "1. How is the accuracy of the validation set affected if we increase the percentage of validation set? What happens when we reduce it?\n",
        "2. How does the size of the train and validation set affect how well we can predict the accuracy on the test set using the validation set?\n",
        "3. What do you think is a good percentage to reserve for the validation set so that thest two factors are balanced?\n",
        "\n",
        "Answer for both nearest neighbour and random classifier. You can note down the values for your experiments and plot a graph using  <a href=https://matplotlib.org/stable/gallery/lines_bars_and_markers/step_demo.html#sphx-glr-gallery-lines-bars-and-markers-step-demo-py>plt.plot<href>. Check also for extreme values for splits, like 99.9% or 0.1%"
      ]
    },
    {
      "cell_type": "markdown",
      "metadata": {
        "id": "M9zvdYY6evgI"
      },
      "source": [
        "> Exercise: Try to implement a 3 nearest neighbour classifier and compare the accuracy of the 1 nearest neighbour classifier and the 3 nearest neighbour classifier on the test dataset. You can use the KNeighborsClassifier class from the scikit-learn library to implement the K-Nearest Neighbors model. You can set the number of neighbors using the n_neighbors parameter. You can also use the accuracy_score function from the scikit-learn library to calculate the accuracy of the model."
      ]
    },
    {
      "cell_type": "markdown",
      "metadata": {
        "id": "PnYvkAZLQY7h"
      },
      "source": [
        "## Multiple Splits\n",
        "\n",
        "One way to get more accurate estimates for the test accuracy is by using <b>cross-validation</b>. Here, we will try a simple version, where we do multiple train/val splits and take the average of validation accuracies as the test accuracy estimation. Here is a function for doing this. Note that this function will take a long time to execute. You can reduce the number of splits to make it faster."
      ]
    },
    {
      "cell_type": "code",
      "execution_count": 14,
      "metadata": {
        "id": "E4nGCUQXBTzo"
      },
      "outputs": [],
      "source": [
        "def AverageAccuracy(alldata, alllabel, splitpercent, iterations, classifier=NN):\n",
        "    \"\"\"\n",
        "    This function takes in the data, labels, split percentage, number of iterations and classifier function\n",
        "    and returns the average accuracy of the classifier\n",
        "\n",
        "    alldata: numpy array of shape (n,d) where n is the number of samples and d is the number of features\n",
        "    alllabel: numpy array of shape (n,) where n is the number of samples\n",
        "    splitpercent: float which is the percentage of data to be used for training\n",
        "    iterations: int which is the number of iterations to run the classifier\n",
        "    classifier: function which is the classifier function to be used\n",
        "\n",
        "    returns: the average accuracy of the classifier\n",
        "    \"\"\"\n",
        "    accuracy = 0\n",
        "    for ii in range(iterations):\n",
        "        traindata, trainlabel, valdata, vallabel = split(\n",
        "            alldata, alllabel, splitpercent\n",
        "        )\n",
        "        valpred = classifier(traindata, trainlabel, valdata)\n",
        "        accuracy += Accuracy(vallabel, valpred)\n",
        "    return accuracy / iterations  # average of all accuracies"
      ]
    },
    {
      "cell_type": "code",
      "execution_count": 15,
      "metadata": {
        "colab": {
          "base_uri": "https://localhost:8080/"
        },
        "id": "H3qtNar7Bbik",
        "outputId": "d3fb093f-4f80-4996-dce9-183c1445ea11"
      },
      "outputs": [
        {
          "output_type": "stream",
          "name": "stdout",
          "text": [
            "Average validation accuracy: 33.58463539517022 %\n",
            "Test accuracy: 34.91795366795367 %\n"
          ]
        }
      ],
      "source": [
        "avg_acc = AverageAccuracy(alltraindata, alltrainlabel, 75 / 100, 10, classifier=NN)\n",
        "print(\"Average validation accuracy:\", avg_acc*100, \"%\")\n",
        "testpred = NN(alltraindata, alltrainlabel, testdata)\n",
        "\n",
        "print(\"Test accuracy:\", Accuracy(testlabel, testpred)*100, \"%\")"
      ]
    },
    {
      "cell_type": "markdown",
      "metadata": {
        "id": "33GIn4x5VH-d"
      },
      "source": [
        "This is a very simple way of doing cross-validation. There are many well-known algorithms for cross-validation, like k-fold cross-validation, leave-one-out etc. This will be covered in detail in a later module. For more information about cross-validation, check <a href=https://en.wikipedia.org/wiki/Cross-validation_(statistics)>Cross-validatioin (Wikipedia)</a>\n",
        "\n",
        "### Questions\n",
        "1. Does averaging the validation accuracy across multiple splits give more consistent results?\n",
        "Yes, averaging the validation accuracy across multiple splits typically provides more consistent and reliable results. This is a key principle behind techniques like k-fold cross-validation. Here's why it works and its benefits:\n",
        "\n",
        "\n",
        "---\n",
        "\n",
        "1. Why Averaging Improves Consistency\n",
        "\n",
        "Mitigates Variance from Data Splits:\n",
        "\n",
        "Single train-test splits can lead to variability because the performance depends heavily on how the data was divided.\n",
        "\n",
        "By averaging results over multiple splits (e.g., k folds), you smooth out the randomness from individual splits.\n",
        "\n",
        "\n",
        "Utilizes the Entire Dataset:\n",
        "\n",
        "In k-fold cross-validation, every data point gets to be in the training and validation sets exactly once. This ensures no data is wasted and reduces bias.\n",
        "\n",
        "\n",
        "\n",
        "\n",
        "---\n",
        "\n",
        "2. How It Works\n",
        "\n",
        "Split the dataset into k folds (e.g., 5 or 10).\n",
        "\n",
        "Train and validate the model k times, each time using a different fold for validation and the rest for training.\n",
        "\n",
        "Compute the average validation accuracy over all k folds to get a robust estimate of the model’s performance.\n",
        "\n",
        "\n",
        "\n",
        "---\n",
        "\n",
        "3. Benefits\n",
        "\n",
        "Reduced Risk of Overfitting/Underfitting:\n",
        "\n",
        "Validation accuracy from multiple splits is less likely to be skewed by a particularly easy or hard split.\n",
        "\n",
        "\n",
        "Better Generalization:\n",
        "\n",
        "The averaged result is more reflective of the model's performance on unseen data.\n",
        "\n",
        "\n",
        "More Stable Hyperparameter Tuning:\n",
        "\n",
        "When testing different configurations, cross-validation gives more reliable feedback, preventing overfitting to a single validation set.\n",
        "\n",
        "\n",
        "\n",
        "\n",
        "---\n",
        "\n",
        "4. When Might It Not Help?\n",
        "\n",
        "Large Datasets:\n",
        "\n",
        "If the dataset is very large and representative, a single split may already give stable results, and cross-validation might not add much benefit.\n",
        "\n",
        "\n",
        "Imbalanced Datasets:\n",
        "\n",
        "If classes are imbalanced, some folds may have disproportionate class distributions. Use stratified k-fold cross-validation to ensure class balance in each split.\n",
        "\n",
        "\n",
        "\n",
        "\n",
        "---\n",
        "\n",
        "Conclusion\n",
        "\n",
        "Averaging validation accuracy across multiple splits (e.g., through cross-validation) is a robust strategy that improves result consistency, especially for small or medium-sized datasets or when data splits are noisy. Would you like guidance on implementing this approach?\n",
        "\n",
        "\n",
        "2. Does it give more accurate estimate of test accuracy?\n",
        "Averaging validation accuracy across multiple splits (e.g., through cross-validation) does provide a more accurate estimate of test accuracy, but with some caveats. Here's a breakdown:\n",
        "\n",
        "\n",
        "---\n",
        "\n",
        "1. Why Cross-Validation Improves Accuracy Estimates\n",
        "\n",
        "Reduces Variance from Single Splits:\n",
        "\n",
        "A single train-test split can result in either overestimating or underestimating test accuracy due to random variations in the split.\n",
        "\n",
        "Cross-validation averages the performance across multiple splits, reducing this variance and giving a more representative estimate of how the model will perform on unseen data.\n",
        "\n",
        "\n",
        "Better Use of Data:\n",
        "\n",
        "Every data point is used for both training and validation in cross-validation. This ensures that the estimate reflects the performance across the entire dataset, not just one portion.\n",
        "\n",
        "\n",
        "Mitigates Bias:\n",
        "\n",
        "Some splits may create biased training or validation sets (e.g., one split might have many \"easy\" examples). Cross-validation balances this out.\n",
        "\n",
        "\n",
        "\n",
        "\n",
        "---\n",
        "\n",
        "2. Is It Closer to Test Accuracy?\n",
        "\n",
        "Yes, in most cases, cross-validation gives a better estimate of the test accuracy compared to a single train-validation split because:\n",
        "\n",
        "It simulates how well the model generalizes by testing on multiple validation sets.\n",
        "\n",
        "It accounts for variability in the training data.\n",
        "\n",
        "\n",
        "However:\n",
        "\n",
        "Test accuracy may still differ slightly because the actual test set is unseen during cross-validation and may have slightly different properties than the training data.\n",
        "\n",
        "If the test set distribution differs significantly (e.g., different noise, data imbalance), cross-validation won't perfectly predict test accuracy.\n",
        "\n",
        "\n",
        "\n",
        "\n",
        "---\n",
        "\n",
        "3. Situations Where Cross-Validation May Not Align with Test Accuracy\n",
        "\n",
        "Data Leakage:\n",
        "\n",
        "If features or labels in the training data overlap improperly (e.g., time series data not split correctly), the validation accuracy will overestimate test performance.\n",
        "\n",
        "\n",
        "Imbalanced or Small Datasets:\n",
        "\n",
        "For very small datasets or highly imbalanced classes, even cross-validation can struggle to approximate true test accuracy.\n",
        "\n",
        "\n",
        "Hyperparameter Tuning Bias:\n",
        "\n",
        "If cross-validation is used extensively for hyperparameter tuning, it may overfit to the validation folds, leading to slightly optimistic estimates.\n",
        "\n",
        "\n",
        "\n",
        "\n",
        "---\n",
        "\n",
        "4. How to Get the Most Accurate Estimate\n",
        "\n",
        "Nested Cross-Validation:\n",
        "\n",
        "Use an outer loop for estimating test accuracy and an inner loop for hyperparameter tuning. This ensures the validation set is not indirectly influencing hyperparameter selection.\n",
        "\n",
        "\n",
        "Stratified Cross-Validation:\n",
        "\n",
        "Ensures that class proportions in the training and validation sets match those in the dataset, leading to more representative estimates.\n",
        "\n",
        "\n",
        "Hold-Out Test Set:\n",
        "\n",
        "After cross-validation, evaluate on a completely independent test set for the final accuracy estimate. This gives the best measure of real-world performance.\n",
        "\n",
        "\n",
        "\n",
        "\n",
        "---\n",
        "\n",
        "Conclusion\n",
        "\n",
        "Cross-validation provides a more accurate and stable estimate of test accuracy compared to a single train-validation split, but the actual test accuracy may still differ slightly depending on the test set characteristics. For critical applications, always use a final independent test set to confirm performance.\n",
        "\n",
        "Would you like an example or implementation for cross-validation?\n",
        "\n",
        "\n",
        "3. What is the effect of the number of iterations on the estimate? Do we get a better estimate with higher iterations?\n",
        "The number of iterations (or folds in cross-validation) does affect the quality of the estimate, but whether a higher number of iterations gives a better estimate depends on several factors. Here's an explanation:\n",
        "\n",
        "\n",
        "---\n",
        "\n",
        "1. Effect of Increasing the Number of Iterations\n",
        "\n",
        "Better Variance Reduction:\n",
        "\n",
        "A higher number of iterations (e.g., more folds in k-fold cross-validation) generally reduces variance in the estimate because the model is tested on more diverse subsets of the data.\n",
        "\n",
        "Example: 10-fold cross-validation typically produces more stable and reliable results than 3-fold cross-validation.\n",
        "\n",
        "\n",
        "More Data in Training Sets:\n",
        "\n",
        "With more iterations, each training set uses a larger proportion of the data. This helps models learn better representations and may improve the reliability of the accuracy estimate.\n",
        "\n",
        "\n",
        "Diminishing Returns:\n",
        "\n",
        "After a certain point (e.g., very high k in k-fold), the improvement in the accuracy estimate becomes negligible. For instance, moving from 10-fold to 20-fold cross-validation provides only a minor improvement.\n",
        "\n",
        "\n",
        "\n",
        "\n",
        "---\n",
        "\n",
        "2. Trade-offs with Higher Iterations\n",
        "\n",
        "Computational Cost:\n",
        "\n",
        "More iterations mean more training and validation cycles. This increases computational cost, especially for large datasets or complex models.\n",
        "\n",
        "\n",
        "Potential for Overfitting to Validation Folds:\n",
        "\n",
        "With very high iterations (e.g., leave-one-out cross-validation where k = number of data points), the model might overfit to small validation sets, especially if the dataset has noise or outliers.\n",
        "\n",
        "\n",
        "Instability in Small Datasets:\n",
        "\n",
        "In small datasets, higher iterations may lead to unstable estimates as small validation sets (e.g., single data points in leave-one-out) can be unrepresentative.\n",
        "\n",
        "\n",
        "\n",
        "\n",
        "---\n",
        "\n",
        "3. When Do Higher Iterations Give Better Estimates?\n",
        "\n",
        "Large, Homogeneous Datasets:\n",
        "\n",
        "With enough data, higher iterations (e.g., 10- or 20-fold cross-validation) can yield better estimates because subsets are more representative of the whole dataset.\n",
        "\n",
        "\n",
        "When Data is Limited:\n",
        "\n",
        "Leave-one-out cross-validation (LOOCV) maximizes training data usage and can provide better estimates for very small datasets, albeit at higher computational cost.\n",
        "\n",
        "\n",
        "Hyperparameter Sensitivity:\n",
        "\n",
        "\n",
        "\n",
        "4. Consider the results you got for the previous questions. Can we deal with a very small train dataset or validation dataset by increasing the iterations?\n",
        "Yes, increasing the number of iterations (e.g., in k-fold cross-validation) can help deal with a very small training or validation dataset to some extent, but there are limitations. Here's how it works and the potential issues:\n",
        "\n",
        "\n",
        "---\n",
        "\n",
        "1. How Increasing Iterations Helps with Small Datasets\n",
        "\n",
        "Maximizes Data Usage:\n",
        "\n",
        "In k-fold cross-validation, as the number of folds (k) increases, the size of the training set per fold grows because fewer samples are held out for validation.\n",
        "\n",
        "In extreme cases, leave-one-out cross-validation (LOOCV) (k = number of samples) uses almost the entire dataset for training in each iteration, maximizing the training data while testing on one sample at a time.\n",
        "\n",
        "\n",
        "More Robust Estimates:\n",
        "\n",
        "With small datasets, a single train-validation split can lead to highly variable results due to the small size of the validation set. By averaging results across multiple folds, the estimate becomes more stable.\n",
        "\n",
        "\n",
        "\n",
        "\n",
        "---\n",
        "\n",
        "2. Trade-Offs of High Iterations with Small Datasets\n",
        "\n",
        "While increasing iterations can help, there are limitations:\n",
        "\n",
        "Overfitting to Validation Folds:\n",
        "\n",
        "With small datasets, the model may overfit to the training data during each iteration, especially for complex models, leading to overly optimistic results.\n",
        "\n",
        "\n",
        "Sensitivity to Noise and Outliers:\n",
        "\n",
        "If the dataset is very small, each validation fold may have significant noise or outliers, making the results less reliable. This is particularly problematic with LOOCV, where each fold has only one validation sample.\n",
        "\n",
        "\n",
        "Computational Cost:\n",
        "\n",
        "Increasing iterations adds computational burden, especially with LOOCV, where the model is trained as many times as there are data points.\n",
        "\n",
        "\n",
        "\n",
        "\n",
        "---\n",
        "\n",
        "3. Alternatives to Handle Small Datasets\n",
        "\n",
        "Data Augmentation:\n",
        "\n",
        "For small datasets, consider generating synthetic data (e.g., using data augmentation for images or oversampling techniques like SMOTE for tabular data) to artificially increase dataset size.\n",
        "\n",
        "\n",
        "Stratified Cross-Validation:\n",
        "\n",
        "Use stratified k-fold cross-validation to ensure class proportions are preserved in each fold, which is critical for imbalanced small datasets.\n",
        "\n",
        "\n",
        "Bootstrap Sampling:\n",
        "\n",
        "Instead of cross-validation, bootstrap sampling repeatedly resamples the dataset with replacement, creating multiple training sets. This allows validation on unused samples.\n",
        "\n",
        "\n",
        "Simpler Models:\n",
        "\n",
        "Use less complex models (e.g., linear regression, logistic regression) that are less prone to overfitting, as these work better with small datasets.\n",
        "\n",
        "\n",
        "Regularization:\n",
        "\n",
        "Apply regularization techniques (e.g., L1/L2 regularization) to prevent overfitting when the training dataset is small.\n",
        "\n",
        "\n",
        "\n",
        "\n",
        "---\n",
        "\n",
        "4. When Increasing Iterations Works Best\n",
        "\n",
        "Homogeneous Data:\n",
        "\n",
        "If the dataset is small but representative of the target population (low noise or outliers), increasing iterations (e.g., 10-fold or LOOCV) can provide robust estimates.\n",
        "\n",
        "\n",
        "Simple Models:\n",
        "\n",
        "If the model is simple and unlikely to overfit, high iterations can help utilize all available data for training.\n",
        "\n",
        "\n",
        "Few Outliers:\n",
        "\n",
        "With minimal noise or outliers, higher iterations provide better estimates without skewing results.\n",
        "\n",
        "\n",
        "\n",
        "\n",
        "---\n",
        "\n",
        "Conclusion\n",
        "\n",
        "Increasing iterations can mitigate the limitations of small datasets by maximizing data usage and providing more stable estimates. However, it is not a perfect solution, as it may amplify issues like overfitting or sensitivity to noise. Combining high iterations with strategies like data augmentation, simpler models, and regularization is the best approach.\n",
        "\n",
        "Would you like me to demonstrate or simulate one of these strategies?"
      ]
    },
    {
      "cell_type": "markdown",
      "metadata": {
        "id": "z-SBxy1qevgJ"
      },
      "source": [
        "> Exercise: How does the accuracy of the 3 nearest neighbour classifier change with the number of splits? How is it affected by the split size? Compare the results with the 1 nearest neighbour classifier."
      ]
    }
  ],
  "metadata": {
    "colab": {
      "provenance": [],
      "include_colab_link": true
    },
    "kernelspec": {
      "display_name": "Python 3",
      "name": "python3"
    },
    "language_info": {
      "codemirror_mode": {
        "name": "ipython",
        "version": 3
      },
      "file_extension": ".py",
      "mimetype": "text/x-python",
      "name": "python",
      "nbconvert_exporter": "python",
      "pygments_lexer": "ipython3",
      "version": "3.10.10"
    }
  },
  "nbformat": 4,
  "nbformat_minor": 0
}